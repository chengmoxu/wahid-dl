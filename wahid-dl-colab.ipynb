{
  "nbformat": 4,
  "nbformat_minor": 0,
  "metadata": {
    "colab": {
      "provenance": [],
      "mount_file_id": "1pGxMZhSiEA7iPU8_WU3dRNcGS2ZkZ4rt",
      "authorship_tag": "ABX9TyN2GjRmV7v+JR8acni6Z+qE",
      "include_colab_link": true
    },
    "kernelspec": {
      "name": "python3",
      "display_name": "Python 3"
    },
    "language_info": {
      "name": "python"
    }
  },
  "cells": [
    {
      "cell_type": "markdown",
      "metadata": {
        "id": "view-in-github",
        "colab_type": "text"
      },
      "source": [
        "<a href=\"https://colab.research.google.com/github/chengmoxu/wahid-dl/blob/main/wahid-dl-colab.ipynb\" target=\"_parent\"><img src=\"https://colab.research.google.com/assets/colab-badge.svg\" alt=\"Open In Colab\"/></a>"
      ]
    },
    {
      "cell_type": "markdown",
      "source": [
        "# wahid-dl-colab\n",
        "Build: wahid-dl-colab.v5.1.20240906.googlecolab.1\n",
        "\n",
        "## 使用說明\n",
        "1. 請在Google Colab連線後執行環境設定，並允許完整存取Google Drive。\n",
        "2. 請依照您想要下載的影片類型執行相應的程式碼區塊。\n",
        "3. 下載的影片、音樂檔案將存到您的Google雲端之wahid-dl資料夾。\n",
        "4. 若要使用Proxy，請在proxy_url=(' ')之兩個引號間填入Proxy IP以及Port，範例：proxy_url=('https://www.google.com')\n",
        "\n",
        "## 版本更新說明\n",
        "1. rename: Renamed from \"wahid-dl.ipynb\" and \"wahid-dl\" to \"wahid-dl-colab.ipynb\" and \"wahid-dl-colab\".\n",
        "2. style: Changed version number."
      ],
      "metadata": {
        "id": "WgfhLu22FEdn"
      }
    },
    {
      "cell_type": "code",
      "execution_count": null,
      "metadata": {
        "id": "FCsDIMVbwgAi"
      },
      "outputs": [],
      "source": [
        "# 環境設定\n",
        "from google.colab import drive\n",
        "!sudo wget https://github.com/yt-dlp/yt-dlp/releases/latest/download/yt-dlp -O /usr/local/bin/yt-dlp\n",
        "!sudo chmod a+rx /usr/local/bin/yt-dlp\n",
        "!sudo apt install opus-tools\n",
        "!sudo apt install ffmpeg\n",
        "drive.mount('/content/MyDrive')\n",
        "!mkdir /content/MyDrive/MyDrive/wahid-dl-Download"
      ]
    },
    {
      "cell_type": "code",
      "source": [
        "# 一般影片專用\n",
        "url=input(\"請輸入欲下載影片之網址：\")\n",
        "proxy_url=('')\n",
        "if proxy_url=='':\n",
        "  proxy_url=proxy_url\n",
        "else:\n",
        "  proxy_url=(\"--proxy \"+proxy_url)\n",
        "!yt-dlp {proxy_url} -c -S\"quality,res,fps,hdr:12,channels,size,br,asr\" --throttled-rate 100K --merge-output-format mp4 {url}\n",
        "!cp *.mp4 /content/MyDrive/MyDrive/wahid-dl-Download\n",
        "!rm *.mp4"
      ],
      "metadata": {
        "id": "jTgOOXmTyIXs"
      },
      "execution_count": null,
      "outputs": []
    },
    {
      "cell_type": "code",
      "source": [
        "# 刪檔直播影片專用\n",
        "url=input(\"請輸入欲下載直播影片之網址：\")\n",
        "proxy_url=('')\n",
        "if proxy_url=='':\n",
        "  proxy_url=proxy_url\n",
        "else:\n",
        "  proxy_url=(\"--proxy \"+proxy_url)\n",
        "!yt-dlp {proxy_url} --live-from-start --throttled-rate 100K {url}\n",
        "!cp *.mkv /content/MyDrive/MyDrive/wahid-dl-Download\n",
        "!rm *.mkv"
      ],
      "metadata": {
        "id": "_26LBYq722yv"
      },
      "execution_count": null,
      "outputs": []
    },
    {
      "cell_type": "code",
      "source": [
        "# 音檔專用\n",
        "url=input(\"請輸入欲下載音檔之網址：\")\n",
        "proxy_url=('')\n",
        "if proxy_url=='':\n",
        "  proxy_url=proxy_url\n",
        "else:\n",
        "  proxy_url=(\"--proxy \"+proxy_url)\n",
        "!yt-dlp {proxy_url} -c --throttled-rate 100K --extract-audio -f \"bestaudio[ext=m4a]\" {url}\n",
        "!cp *.m4a /content/MyDrive/MyDrive/wahid-dl-Download\n",
        "!rm *.m4a"
      ],
      "metadata": {
        "id": "bci5hzon2d9i"
      },
      "execution_count": null,
      "outputs": []
    },
    {
      "cell_type": "code",
      "source": [
        "# 擷取影片直連專用\n",
        "url=input(\"請輸入欲擷取影片直連之網址：\")\n",
        "proxy_url=('')\n",
        "if proxy_url=='':\n",
        "  proxy_url=proxy_url\n",
        "else:\n",
        "  proxy_url=(\"--proxy \"+proxy_url)\n",
        "!yt-dlp {proxy_url} -g {url}"
      ],
      "metadata": {
        "id": "5UCl9nudG2FI"
      },
      "execution_count": null,
      "outputs": []
    }
  ]
}